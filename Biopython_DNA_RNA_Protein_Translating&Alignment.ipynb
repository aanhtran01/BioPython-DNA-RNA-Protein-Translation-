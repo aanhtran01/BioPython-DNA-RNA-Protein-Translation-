{
  "nbformat": 4,
  "nbformat_minor": 0,
  "metadata": {
    "colab": {
      "name": "Biopython:DNA/RNA/Protein/Translating&Alignment.ipynb",
      "provenance": [],
      "authorship_tag": "ABX9TyMTgFUOtAOwsrG6lMmQMvBC",
      "include_colab_link": true
    },
    "kernelspec": {
      "name": "python3",
      "display_name": "Python 3"
    },
    "language_info": {
      "name": "python"
    }
  },
  "cells": [
    {
      "cell_type": "markdown",
      "metadata": {
        "id": "view-in-github",
        "colab_type": "text"
      },
      "source": [
        "<a href=\"https://colab.research.google.com/github/aanhtran01/BioPythonWorkspace/blob/main/Biopython_DNA_RNA_Protein_Translating%26Alignment.ipynb\" target=\"_parent\"><img src=\"https://colab.research.google.com/assets/colab-badge.svg\" alt=\"Open In Colab\"/></a>"
      ]
    },
    {
      "cell_type": "markdown",
      "source": [
        "Installing BioPython "
      ],
      "metadata": {
        "id": "jdzASrwCFaID"
      }
    },
    {
      "cell_type": "code",
      "source": [
        "import numpy as np"
      ],
      "metadata": {
        "id": "dQBal5bQaKwn"
      },
      "execution_count": null,
      "outputs": []
    },
    {
      "cell_type": "code",
      "execution_count": null,
      "metadata": {
        "colab": {
          "base_uri": "https://localhost:8080/"
        },
        "id": "vEfAXPh_1KMa",
        "outputId": "2d714c74-a186-4b9b-8c86-6f356748c198"
      },
      "outputs": [
        {
          "output_type": "stream",
          "name": "stdout",
          "text": [
            "Requirement already satisfied: biopython in /usr/local/lib/python3.7/dist-packages (1.79)\n",
            "Requirement already satisfied: numpy in /usr/local/lib/python3.7/dist-packages (from biopython) (1.21.5)\n"
          ]
        }
      ],
      "source": [
        "pip install biopython\n"
      ]
    },
    {
      "cell_type": "markdown",
      "source": [
        "Seq"
      ],
      "metadata": {
        "id": "LvDiyOZjGbg8"
      }
    },
    {
      "cell_type": "code",
      "source": [
        "from Bio.Seq import Seq\n",
        "sequence = Seq(\"AGTACACTTGT\")\n",
        "print(sequence)"
      ],
      "metadata": {
        "colab": {
          "base_uri": "https://localhost:8080/"
        },
        "id": "bwdYnI2WFPFK",
        "outputId": "be8cf048-946d-42ca-845b-93d9d44b2532"
      },
      "execution_count": null,
      "outputs": [
        {
          "output_type": "stream",
          "name": "stdout",
          "text": [
            "AGTACACTTGT\n"
          ]
        }
      ]
    },
    {
      "cell_type": "code",
      "source": [
        "#count() - The Seq object has a .count() method, like a string; it gives a nonoverlapping count \n",
        "sequence = (\"AAAA\")\n",
        "sequence.count(\"AA\")"
      ],
      "metadata": {
        "colab": {
          "base_uri": "https://localhost:8080/"
        },
        "id": "037b0B9BFgax",
        "outputId": "fac2036c-979d-445c-f7c4-09e33872647f"
      },
      "execution_count": null,
      "outputs": [
        {
          "output_type": "execute_result",
          "data": {
            "text/plain": [
              "2"
            ]
          },
          "metadata": {},
          "execution_count": 6
        }
      ]
    },
    {
      "cell_type": "code",
      "source": [
        "#overlapping count \n",
        "sequence.count_overlap(\"AA\")"
      ],
      "metadata": {
        "colab": {
          "base_uri": "https://localhost:8080/",
          "height": 181
        },
        "id": "wnKKCIBWG0_5",
        "outputId": "cb92e842-740a-4499-a10c-de359b940980"
      },
      "execution_count": null,
      "outputs": [
        {
          "output_type": "error",
          "ename": "AttributeError",
          "evalue": "ignored",
          "traceback": [
            "\u001b[0;31m---------------------------------------------------------------------------\u001b[0m",
            "\u001b[0;31mAttributeError\u001b[0m                            Traceback (most recent call last)",
            "\u001b[0;32m<ipython-input-9-87897b61ff30>\u001b[0m in \u001b[0;36m<module>\u001b[0;34m()\u001b[0m\n\u001b[1;32m      1\u001b[0m \u001b[0;31m#overlapping count\u001b[0m\u001b[0;34m\u001b[0m\u001b[0;34m\u001b[0m\u001b[0;34m\u001b[0m\u001b[0m\n\u001b[0;32m----> 2\u001b[0;31m \u001b[0msequence\u001b[0m\u001b[0;34m.\u001b[0m\u001b[0mcount_overlap\u001b[0m\u001b[0;34m(\u001b[0m\u001b[0;34m\"AA\"\u001b[0m\u001b[0;34m)\u001b[0m\u001b[0;34m\u001b[0m\u001b[0;34m\u001b[0m\u001b[0m\n\u001b[0m",
            "\u001b[0;31mAttributeError\u001b[0m: 'str' object has no attribute 'count_overlap'"
          ]
        }
      ]
    },
    {
      "cell_type": "code",
      "source": [
        "#calculate GC content \n",
        "from Bio.SeqUtils import GC\n",
        "sequence = Seq(\"ATATGAAATTTGAAAA\")\n",
        "GC(sequence)\n"
      ],
      "metadata": {
        "colab": {
          "base_uri": "https://localhost:8080/"
        },
        "id": "yDVMKwhZHVYA",
        "outputId": "1b430320-81e2-475d-b4a2-a104efe4a597"
      },
      "execution_count": null,
      "outputs": [
        {
          "output_type": "execute_result",
          "data": {
            "text/plain": [
              "12.5"
            ]
          },
          "metadata": {},
          "execution_count": 10
        }
      ]
    },
    {
      "cell_type": "markdown",
      "source": [
        "Getting Template Strand from coding strand"
      ],
      "metadata": {
        "id": "E1EHlhRhJTs0"
      }
    },
    {
      "cell_type": "code",
      "source": [
        "coding_dna = Seq(\"ATGGCCATTGTAATGGGCCGCTGAAAGGGTGCCCGATAG\")\n",
        "template_dna = coding_dna.reverse_complement()\n",
        "template_dna # nucleotide sequences are normally read from the 5’ to 3’ direction\n",
        "# while in the figure the template strand is shown reversed."
      ],
      "metadata": {
        "colab": {
          "base_uri": "https://localhost:8080/"
        },
        "id": "Bf6HleKhJL1t",
        "outputId": "31ce7fff-bb2a-4a10-c7aa-a1baf96cb39a"
      },
      "execution_count": null,
      "outputs": [
        {
          "output_type": "execute_result",
          "data": {
            "text/plain": [
              "Seq('CTATCGGGCACCCTTTCAGCGGCCCATTACAATGGCCAT')"
            ]
          },
          "metadata": {},
          "execution_count": 11
        }
      ]
    },
    {
      "cell_type": "markdown",
      "source": [
        "Transcribing RNA from DNA"
      ],
      "metadata": {
        "id": "8qMJQrEOJrWs"
      }
    },
    {
      "cell_type": "code",
      "source": [
        "# transcribe\n",
        "messenger_rna = coding_dna.transcribe()\n",
        "messenger_rna"
      ],
      "metadata": {
        "colab": {
          "base_uri": "https://localhost:8080/"
        },
        "id": "b-tL2uNqJZeb",
        "outputId": "b575f6a4-079d-48dc-eb0d-a39f35efcc40"
      },
      "execution_count": null,
      "outputs": [
        {
          "output_type": "execute_result",
          "data": {
            "text/plain": [
              "Seq('AUGGCCAUUGUAAUGGGCCGCUGAAAGGGUGCCCGAUAG')"
            ]
          },
          "metadata": {},
          "execution_count": 12
        }
      ]
    },
    {
      "cell_type": "markdown",
      "source": [
        "mRNA to DNA"
      ],
      "metadata": {
        "id": "TQnv6q4-KByV"
      }
    },
    {
      "cell_type": "code",
      "source": [
        "# The Seq object also includes a back-transcription method for going from the mRNA\n",
        "# to the coding strand of the DNA\n",
        "coding_dna = messenger_rna.back_transcribe()\n",
        "coding_dna"
      ],
      "metadata": {
        "colab": {
          "base_uri": "https://localhost:8080/"
        },
        "id": "qj85vXsUJvAU",
        "outputId": "5be90b21-ef4c-4123-c270-a8fcbe24d979"
      },
      "execution_count": null,
      "outputs": [
        {
          "output_type": "execute_result",
          "data": {
            "text/plain": [
              "Seq('ATGGCCATTGTAATGGGCCGCTGAAAGGGTGCCCGATAG')"
            ]
          },
          "metadata": {},
          "execution_count": 13
        }
      ]
    },
    {
      "cell_type": "markdown",
      "source": [
        "Translating RNA to Protein "
      ],
      "metadata": {
        "id": "fGWdO5pcKNVq"
      }
    },
    {
      "cell_type": "code",
      "source": [
        "messenger_rna.translate() # * == stop codon"
      ],
      "metadata": {
        "colab": {
          "base_uri": "https://localhost:8080/"
        },
        "id": "n-q3P41jKEXt",
        "outputId": "b23f803e-4745-4dec-9f45-21919b427011"
      },
      "execution_count": null,
      "outputs": [
        {
          "output_type": "execute_result",
          "data": {
            "text/plain": [
              "Seq('MAIVMGR*KGAR*')"
            ]
          },
          "metadata": {},
          "execution_count": 14
        }
      ]
    },
    {
      "cell_type": "markdown",
      "source": [
        "Translating coding DNA to Protein "
      ],
      "metadata": {
        "id": "9ejpamFaKVST"
      }
    },
    {
      "cell_type": "code",
      "source": [
        "# we can also translate directly from the coding strand DNA sequence\n",
        "coding_dna.translate()"
      ],
      "metadata": {
        "colab": {
          "base_uri": "https://localhost:8080/"
        },
        "id": "L50f0wtIKX76",
        "outputId": "ca41baeb-105b-408b-dc18-e784a500e343"
      },
      "execution_count": null,
      "outputs": [
        {
          "output_type": "execute_result",
          "data": {
            "text/plain": [
              "Seq('MAIVMGR*KGAR*')"
            ]
          },
          "metadata": {},
          "execution_count": 15
        }
      ]
    },
    {
      "cell_type": "markdown",
      "source": [
        "finding start codons "
      ],
      "metadata": {
        "id": "Jh2YRAHWKmLj"
      }
    },
    {
      "cell_type": "code",
      "source": [
        " my_rna = Seq(\"GUCAUGGCCAUUGUAAUGGGCCGCUGAAAGGGUGCCCGAUAGUUG\")\n",
        " my_rna.rfind(\"AUG\")"
      ],
      "metadata": {
        "colab": {
          "base_uri": "https://localhost:8080/"
        },
        "id": "8a6bCa2jKn82",
        "outputId": "c0ca3c50-cc36-461b-a3ad-d324e26ad883"
      },
      "execution_count": null,
      "outputs": [
        {
          "output_type": "execute_result",
          "data": {
            "text/plain": [
              "15"
            ]
          },
          "metadata": {},
          "execution_count": 16
        }
      ]
    },
    {
      "cell_type": "markdown",
      "source": [
        "Translating Human CYP2D6 and Rat CYP2D1 genes (local)"
      ],
      "metadata": {
        "id": "LySqX2XyOGl7"
      }
    },
    {
      "cell_type": "code",
      "source": [
        "human_CYP2D6_dna = Seq(\"CACAGCACAGAGCTGGTANGGGCAAGGGGGCAACTGGAAAAGCAAAGAAGCCATGGGTGCTGGGCCGGGGCTGTCCGACGGGCACGGAGAAGCTGAAGCGCTGCAGGAGGCAGGTGAAGAAGAGGAAGAGCTCCATGCGGGCCAGGGGCTCCCCAAGGCATGCTCTGCGGCCTGTGGGTGGGACAGGGGCNTCAGTNNNNCTGGGGCCTGATTGGAGCTCCACCCTCCCTGTCACCCTGGGAATCGACAGGGAGTCAGGCCCCCCAGAGGTACCTGCTGAGAATGGCATGAAGGCCTCATGCTTCACAAAGTTGCCCTGGGCATCCAGGAAGTGTTCTGGATGGAAGCGGTGGGGCTTCTCCCAGACGGTCTCATCCTTCAGCACGGACGACAGGTTGATGATGAGGGTCGTCCCCTGGNCAG\")\n",
        "print(human_CYP2D6_dna.translate())\n",
        "human_CYP2D6_protein = human_CYP2D6_dna.translate()\n",
        "#possible code improvment is to create and import a text document of the aligned sequences for each sequence and pass them in as a string rather than creating one large string here"
      ],
      "metadata": {
        "colab": {
          "base_uri": "https://localhost:8080/"
        },
        "id": "MRKKaaMIOF_e",
        "outputId": "9ff047e4-807a-419b-cc02-686025d71cf1"
      },
      "execution_count": null,
      "outputs": [
        {
          "output_type": "stream",
          "name": "stdout",
          "text": [
            "HSTELVXARGQLEKQRSHGCWAGAVRRARRS*SAAGGR*RRGRAPCGPGAPQGMLCGLWVGQGXQXXWGLIGAPPSLSPWESTGSQAPQRYLLRMA*RPHASQSCPGHPGSVLDGSGGASPRRSHPSARTTG***GSSPGQ\n"
          ]
        }
      ]
    },
    {
      "cell_type": "code",
      "source": [
        "rat_CYP2D6_dna = Seq(\"CACAGCACAAAGCTCATAGGGGGATGGGCTCACCAGGAAANGCAAAGACACCATGGTGGCTGGGCCGGGGCTGTCCAGTGGGCACCGAGAAGCTGAAGTGCTGCAGCAGGGAGGTGAAGAAGAGGAAGAGCTCCATGCGGGCCAGGGGCTCCCCGAGGCATGCACGGCGGCCTGTGGGGAGGGGAGGGGCGTCAGTGAGCCTGGCTCCTGGGTGNANNTACNCCCTGCAAGACTCCACGGAAGGGGACAGGGAGCCGGGCTCCCCACAGGCACCTGCTGAGAAAGGCAGGAAGGCCTCCGGCTTCACAAAGTGGCCCTGGGCATCCAGGAAGTGTTCGGGGTGGAAGCGGAAGGGCTTCTCCCAGACGGCCTCATCCTTCAGCACCGATGACAGGTTGGTGATGAGTGTCGTTCCCTGGGCAG\")\n",
        "print(rat_CYP2D6_dna.translate())\n",
        "rat_CYP2D6_protein = rat_CYP2D6_dna.translate()"
      ],
      "metadata": {
        "colab": {
          "base_uri": "https://localhost:8080/"
        },
        "id": "asbQNYP1OF6m",
        "outputId": "f63182a9-8661-4036-88ed-ec98884c3846"
      },
      "execution_count": null,
      "outputs": [
        {
          "output_type": "stream",
          "name": "stdout",
          "text": [
            "HSTKLIGGWAHQEXQRHHGGWAGAVQWAPRS*SAAAGR*RRGRAPCGPGAPRGMHGGLWGGEGRQ*AWLLGXXTPCKTPRKGTGSRAPHRHLLRKAGRPPASQSGPGHPGSVRGGSGRASPRRPHPSAPMTGW**VSFPGQ\n"
          ]
        }
      ]
    },
    {
      "cell_type": "code",
      "source": [
        "from Bio import pairwise2\n",
        "alignments = pairwise2.align.globalxx(human_CYP2D6_protein, rat_CYP2D6_protein)\n",
        "from Bio.pairwise2 import format_alignment\n",
        "print(format_alignment(*alignments[0]))"
      ],
      "metadata": {
        "colab": {
          "base_uri": "https://localhost:8080/"
        },
        "id": "aDxMuPh8T9Up",
        "outputId": "e70f9aaf-bb40-4508-97c0-b4807f4b04ba"
      },
      "execution_count": null,
      "outputs": [
        {
          "output_type": "stream",
          "name": "stdout",
          "text": [
            "HSTE-LVXAR-G----QLEK-QRSH-GC-WAGAVRR--AR-RS*SAAG-GR*RRGRAPCGPGAPQ-GMLC-G-LWVGQGX---QXX--WGLI-GAP---PSLS---PWES---TGSQ-APQ-RY-LLRM-A*-RPH-ASQSC-PGHPGSVLD-GSG-G-ASPRRS-HPSART--TG*-**GS-S-PGQ\n",
            "|||  |     |    | |  || | |  |||||    |  ||||||  |||||||||||||||  ||   | || | |    |    | |  |     |      |      |||  ||  |  |||  |  ||  ||||  |||||||   | | | |||||  ||||    ||  ||   | |||\n",
            "HST-KL----IGGWAHQ-E-XQR-HHG-GWAGAV--QWA-PRS*SAA-AGR*RRGRAPCGPGAP-RGM--HGGLW-G-G-EGRQ--*AW-L-LG--XXTP---CKTP---RKGTGS-RAP-HR-HLLR-KA-GRP-PASQS-GPGHPGSV--RG-GSGRASPRR-PHPSA--PMTG-W**--VSFPGQ\n",
            "  Score=94\n",
            "\n"
          ]
        }
      ]
    },
    {
      "cell_type": "code",
      "source": [
        "alignments2 = pairwise2.align.globalxx(rat_CYP2D6_dna, human_CYP2D6_dna)\n",
        "from Bio.pairwise2 import format_alignment\n",
        "print(format_alignment(*alignments2[0]))"
      ],
      "metadata": {
        "colab": {
          "base_uri": "https://localhost:8080/"
        },
        "id": "jZcCZtO77TDq",
        "outputId": "83022a06-3df2-4c9e-da9f-3c143dea1e31"
      },
      "execution_count": null,
      "outputs": [
        {
          "output_type": "stream",
          "name": "stdout",
          "text": [
            "CACAGCACAA-AGCTCA--TA-GGG---GGATGGGCTCACCA--GGAAAN-GCAAAGACA-CCATGGTG-GCTGGGCCGGGGCTGTCCAGT--GGGCACCG-AGAAGCTGAAGT-GCTGCAGCAG-GG-AGGTGAAGAAGAGGAAGAGCTCCATGCGGGCCAGGGGCTCCCCGA-GGCATGCA-CG-GCGGCCTGTGGGGAG-GGGA--GGGGCG-TCAGTGAGC----CTGGCT--CCTGGG-T-GN-ANN--T--ACNCC-C--TG-CAAGACTCCAC-GG-AAGGG--GACAGGGAGC-CG-GGCTCCCCACAG-GC--ACCTGCTGAGAAA-GGCAG-GAAGGCCTCCG--GCTTCACAAAGTG-GCCCTGGGCATCCAGGAAGTGTTCGG-GG-TGGAAGCGGAA-GGG-CTTCTCCCAGACGGC-CTCATCCTTCAGCACCG-AT-GACAGGTTGG-TGATGAGTG-TCGTTCCC-TGGG-CAG\n",
            "|||||||| | ||||    || |||   ||  |||  ||  |  |||||  ||||||| | |||||| | |||||||||||||||||| |   ||||| || |||||||||||  |||||||  | || ||||||||||||||||||||||||||||||||||||||||||| | |||||||  |  |||||||||  || | ||||  |||||  |||||        ||||    |||  | | |  |    |  || || |  || |   |  || | || ||     |||||||||  |  ||| |||| ||| |   |||||||||| || ||||  |||||||| |   ||||||||||||  ||||||||||||||||||||||||   || |||||||||   ||| ||||||||||||||  |||||||||||||| || |  |||||||| | ||||||| | ||| |||| | || |||\n",
            "CACAGCAC-AGAGCT--GGTANGGGCAAGG--GGG--CA--ACTGGAAA-AGCAAAGA-AGCCATGG-GTGCTGGGCCGGGGCTGTCC-G-ACGGGCA-CGGAGAAGCTGAAG-CGCTGCAG--GAGGCAGGTGAAGAAGAGGAAGAGCTCCATGCGGGCCAGGGGCTCCCC-AAGGCATGC-TC-TGCGGCCTGT--GG-GTGGGACAGGGGC-NTCAGT----NNNNCTGG--GGCCT--GATTG-GA--GCTCCAC-CCTCCCTGTC---A--CC-CTGGGAA---TCGACAGGGAG-TC-AGGC-CCCC-CAGAG-GTACCTGCTGAG-AATGGCA-TGAAGGCCT-C-ATGCTTCACAAAGT-TGCCCTGGGCATCCAGGAAGTGTTC--TGGATGGAAGCGG--TGGGGCTTCTCCCAGACGG-TCTCATCCTTCAGCA-CGGA-CGACAGGTT-GATGATGAG-GGTCG-TCCCCT-GGNCAG\n",
            "  Score=356\n",
            "\n"
          ]
        }
      ]
    },
    {
      "cell_type": "code",
      "source": [
        "#finding the length of the protein \n",
        "len(rat_CYP2D6_protein)"
      ],
      "metadata": {
        "colab": {
          "base_uri": "https://localhost:8080/"
        },
        "id": "EPUC0kREVMY3",
        "outputId": "c56344a0-0be3-48ee-bb5b-47919147d1e2"
      },
      "execution_count": null,
      "outputs": [
        {
          "output_type": "execute_result",
          "data": {
            "text/plain": [
              "141"
            ]
          },
          "metadata": {},
          "execution_count": 21
        }
      ]
    },
    {
      "cell_type": "code",
      "source": [
        "#finding the percentage of similar proteins \n",
        "(94/len(rat_CYP2D6_protein))*100"
      ],
      "metadata": {
        "colab": {
          "base_uri": "https://localhost:8080/"
        },
        "id": "ll7y9IEYWLE9",
        "outputId": "7bf5a591-8f31-473c-9e00-972d7b755b1a"
      },
      "execution_count": null,
      "outputs": [
        {
          "output_type": "execute_result",
          "data": {
            "text/plain": [
              "66.66666666666666"
            ]
          },
          "metadata": {},
          "execution_count": 22
        }
      ]
    },
    {
      "cell_type": "markdown",
      "source": [
        "Doing an Alignment for proteins for the whole CYP2D gene without alignment, mainly testing to see if you can translate a fafsa file"
      ],
      "metadata": {
        "id": "ukS7Jj_iYATR"
      }
    },
    {
      "cell_type": "code",
      "source": [
        "from google.colab import drive\n",
        "drive.mount('/content/drive')\n",
        "drive.mount(\"/content/drive\", force_remount=True)"
      ],
      "metadata": {
        "colab": {
          "base_uri": "https://localhost:8080/"
        },
        "id": "qp6VFMn5bG28",
        "outputId": "9c06835f-de1e-4276-9214-1dac0c34d90f"
      },
      "execution_count": null,
      "outputs": [
        {
          "output_type": "stream",
          "name": "stdout",
          "text": [
            "Mounted at /content/drive\n",
            "Mounted at /content/drive\n"
          ]
        }
      ]
    },
    {
      "cell_type": "code",
      "source": [
        "from Bio import pairwise2\n",
        "from Bio import SeqIO\n",
        "seq1 = SeqIO.read ('/content/drive/MyDrive/CaSB 185/CaSB 185 Final Project/Human_genes/CYP2D6_Human.txt', 'fasta')\n",
        "seq2 = SeqIO.read('/content/drive/MyDrive/CaSB 185/CaSB 185 Final Project/Rat_genes/RatCYP2D1genome.txt', 'fasta')"
      ],
      "metadata": {
        "id": "NIytC0PRX9MD"
      },
      "execution_count": null,
      "outputs": []
    },
    {
      "cell_type": "code",
      "source": [
        "HCYP2D6_protein = seq1.translate()"
      ],
      "metadata": {
        "colab": {
          "base_uri": "https://localhost:8080/"
        },
        "id": "2AuZwo9MceGL",
        "outputId": "02531fd2-f8e2-4d90-e32c-4aa4968bd4e0"
      },
      "execution_count": null,
      "outputs": [
        {
          "output_type": "stream",
          "name": "stderr",
          "text": [
            "/usr/local/lib/python3.7/dist-packages/Bio/Seq.py:2983: BiopythonWarning: Partial codon, len(sequence) not a multiple of three. Explicitly trim the sequence or add trailing N before translation. This may become an error in future.\n",
            "  BiopythonWarning,\n"
          ]
        }
      ]
    },
    {
      "cell_type": "code",
      "source": [
        "RCYP2D6_protein = seq2.translate()"
      ],
      "metadata": {
        "colab": {
          "base_uri": "https://localhost:8080/"
        },
        "id": "kug7BPdXc1cL",
        "outputId": "6bbba7aa-b162-46eb-e541-f119ca3b4f3b"
      },
      "execution_count": null,
      "outputs": [
        {
          "output_type": "stream",
          "name": "stderr",
          "text": [
            "/usr/local/lib/python3.7/dist-packages/Bio/Seq.py:2983: BiopythonWarning: Partial codon, len(sequence) not a multiple of three. Explicitly trim the sequence or add trailing N before translation. This may become an error in future.\n",
            "  BiopythonWarning,\n"
          ]
        }
      ]
    },
    {
      "cell_type": "code",
      "source": [
        "alignments = pairwise2.align.globalxx(HCYP2D6_protein, RCYP2D6_protein)\n",
        "from Bio.pairwise2 import format_alignment\n",
        "print(format_alignment(*alignments[0]))"
      ],
      "metadata": {
        "colab": {
          "base_uri": "https://localhost:8080/"
        },
        "id": "UV5fZ1GdcTaQ",
        "outputId": "9f47f9ff-2d93-4991-e1c8-62fadac42773"
      },
      "execution_count": null,
      "outputs": [
        {
          "output_type": "stream",
          "name": "stdout",
          "text": [
            "ID: <unknown id>\n",
            "Name: <unknown name>\n",
            "Description: <unknown description>\n",
            "Number of features: 0\n",
            "/molecule_type=protein\n",
            "Seq('LE---LPHCFIVH-*SL-WLGSRLGTRYPIL--AG---------HSTK-LI-G-G--WAHQE-SKDT--MV-AGPGLSS---...T-TK-')\n",
            "|||||||||||||||||||||||||||||||||||||||||||||||||||||||||||||||||||||||||||||||||||||||||||||||||||||||||||||||||||||||||||     |     |  |   || | |    |    ||         |||  |  | |  |     ||    |  ||||| |   |||  |  ||\n",
            "ID: <unknown id>\n",
            "Name: <unknown name>\n",
            "Description: <unknown description>\n",
            "Number of features: 0\n",
            "/molecule_type=protein\n",
            "Seq('--AKRL-----V-Y*--TWL-S-L----P--CRAGLELESLLPYHST-EL-VGQGGNW----KSK--EAM-GAGPGL-SDGH...-NT-*')\n",
            "  Score=155\n",
            "\n"
          ]
        }
      ]
    },
    {
      "cell_type": "code",
      "source": [
        "len(HCYP2D6_protein)"
      ],
      "metadata": {
        "colab": {
          "base_uri": "https://localhost:8080/"
        },
        "id": "AB7KJjs4dBv3",
        "outputId": "8f9430e5-77fc-4c68-d459-164fb9394f25"
      },
      "execution_count": null,
      "outputs": [
        {
          "output_type": "execute_result",
          "data": {
            "text/plain": [
              "1437"
            ]
          },
          "metadata": {},
          "execution_count": 61
        }
      ]
    },
    {
      "cell_type": "code",
      "source": [
        "len(RCYP2D6_protein)"
      ],
      "metadata": {
        "colab": {
          "base_uri": "https://localhost:8080/"
        },
        "id": "gGi4L012dZOd",
        "outputId": "705356f1-c401-4f5b-a712-631a31a7866a"
      },
      "execution_count": null,
      "outputs": [
        {
          "output_type": "execute_result",
          "data": {
            "text/plain": [
              "1468"
            ]
          },
          "metadata": {},
          "execution_count": 62
        }
      ]
    },
    {
      "cell_type": "code",
      "source": [
        "#percentage of similar protein \n",
        "(155/(len(RCYP2D6_protein)))*100"
      ],
      "metadata": {
        "colab": {
          "base_uri": "https://localhost:8080/"
        },
        "id": "cMoJnChZdbzr",
        "outputId": "7f71eeb7-efd7-4132-c880-ab1895d6a17c"
      },
      "execution_count": null,
      "outputs": [
        {
          "output_type": "execute_result",
          "data": {
            "text/plain": [
              "10.558583106267031"
            ]
          },
          "metadata": {},
          "execution_count": 63
        }
      ]
    },
    {
      "cell_type": "markdown",
      "source": [
        "Translating ST"
      ],
      "metadata": {
        "id": "yg6HHU9WtU4D"
      }
    },
    {
      "cell_type": "code",
      "source": [
        "from Bio import pairwise2\n",
        "from Bio import SeqIO\n",
        "ST6R_DNA = SeqIO.read ('/content/drive/MyDrive/CaSB 185/CaSB 185 Final Project/Rat-HumanST6GALNAC1/Rat_ST6GALNAC_shortseq.txt', 'fasta')\n",
        "ST6H_DNA = SeqIO.read('/content/drive/MyDrive/CaSB 185/CaSB 185 Final Project/Rat-HumanST6GALNAC1/Human_ST6GALNAC.txt', 'fasta')\n",
        "ST6R_protein = ST6R_DNA.translate()\n",
        "ST6H_protein = ST6H_DNA.translate()\n",
        "ST6alignments = pairwise2.align.globalxx(ST6R_protein, ST6H_protein)\n",
        "from Bio.pairwise2 import format_alignment\n",
        "print(format_alignment(*ST6alignments[0]))\n",
        "print(len(ST6R_protein))"
      ],
      "metadata": {
        "colab": {
          "base_uri": "https://localhost:8080/"
        },
        "id": "oKY4nXWZtULz",
        "outputId": "a2d9e8cd-c96d-4110-859e-8f017d6d5564"
      },
      "execution_count": null,
      "outputs": [
        {
          "output_type": "stream",
          "name": "stdout",
          "text": [
            "ID: <unknown id>\n",
            "Name: <unknown name>\n",
            "Description: <unknown description>\n",
            "Number of features: 0\n",
            "/molecule_type=protein\n",
            "Seq('SLTL-SQR-*RAVSSRRAPVVGRYS-LQWAV-SRVF-DLK-NLF-KVX-QI-PNCQEPARM-R--G...K-TK')\n",
            "||||||||||||||||||||||||||||||||||||||||||||||||||||||||||||||||||||||||||||||||||||||||||||||||||||||||||||||||||||||||||||||  ||  |||||||||||||||  ||||  |||  ||  ||  | | |  ||||| |   |  ||||  ||||\n",
            "ID: <unknown id>\n",
            "Name: <unknown name>\n",
            "Description: <unknown description>\n",
            "Number of features: 0\n",
            "/molecule_type=protein\n",
            "Seq('SLT-WSQ-S*RAVSSRRAPVVGRY-ILQWA-PSRV-LDL-RNL-XK-XPQ-TPNCQE-A--ARITG...-RTK')\n",
            "  Score=172\n",
            "\n",
            "203\n"
          ]
        },
        {
          "output_type": "stream",
          "name": "stderr",
          "text": [
            "/usr/local/lib/python3.7/dist-packages/Bio/Seq.py:2983: BiopythonWarning: Partial codon, len(sequence) not a multiple of three. Explicitly trim the sequence or add trailing N before translation. This may become an error in future.\n",
            "  BiopythonWarning,\n"
          ]
        }
      ]
    },
    {
      "cell_type": "code",
      "source": [
        "#Calculate percentage protein match \n",
        "(172/203)*100"
      ],
      "metadata": {
        "colab": {
          "base_uri": "https://localhost:8080/"
        },
        "id": "XQAyznFM3JBP",
        "outputId": "4c99632d-61ed-44bb-f0eb-6fec3a25659f"
      },
      "execution_count": null,
      "outputs": [
        {
          "output_type": "execute_result",
          "data": {
            "text/plain": [
              "84.72906403940887"
            ]
          },
          "metadata": {},
          "execution_count": 18
        }
      ]
    },
    {
      "cell_type": "code",
      "source": [
        ""
      ],
      "metadata": {
        "id": "Dmt-E0O4Gx0_"
      },
      "execution_count": null,
      "outputs": []
    }
  ]
}